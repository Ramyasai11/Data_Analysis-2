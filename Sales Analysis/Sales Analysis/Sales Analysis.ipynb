{
 "cells": [
  {
   "cell_type": "markdown",
   "id": "9d509b44-697d-4b2d-abe9-865c4eff228b",
   "metadata": {},
   "source": [
    "# Sales Analysis"
   ]
  },
  {
   "cell_type": "code",
   "execution_count": 2,
   "id": "12a1a4ef-a336-474c-bdec-1260c12eff57",
   "metadata": {},
   "outputs": [],
   "source": [
    "import pandas as pd\n",
    "import numpy as np\n",
    "import matplotlib.pyplot as plt\n",
    "import seaborn as sns"
   ]
  },
  {
   "cell_type": "code",
   "execution_count": 3,
   "id": "750cfb0c-7cfc-4344-aa6c-3018aacd636e",
   "metadata": {},
   "outputs": [],
   "source": [
    "pd.set_option('display.float_format',lambda x: '%.3f' % x)"
   ]
  },
  {
   "cell_type": "markdown",
   "id": "640202f2-c9ea-434f-ac90-fe6fe2397d5f",
   "metadata": {},
   "source": [
    "## Gather data"
   ]
  },
  {
   "cell_type": "code",
   "execution_count": 4,
   "id": "cd45f3b4-81be-45a9-8d68-bb4ef748a984",
   "metadata": {},
   "outputs": [],
   "source": [
    "df=pd.read_csv('superstore_dataset2011-2015.csv',encoding='ISO-8859-1')"
   ]
  },
  {
   "cell_type": "code",
   "execution_count": 5,
   "id": "72236b7f-4b49-4afd-8762-368c3c51cb71",
   "metadata": {},
   "outputs": [
    {
     "data": {
      "text/plain": [
       "Index(['Row ID', 'Order ID', 'Order Date', 'Ship Date', 'Ship Mode',\n",
       "       'Customer ID', 'Customer Name', 'Segment', 'City', 'State', 'Country',\n",
       "       'Postal Code', 'Market', 'Region', 'Product ID', 'Category',\n",
       "       'Sub-Category', 'Product Name', 'Sales', 'Quantity', 'Discount',\n",
       "       'Profit', 'Shipping Cost', 'Order Priority'],\n",
       "      dtype='object')"
      ]
     },
     "execution_count": 5,
     "metadata": {},
     "output_type": "execute_result"
    }
   ],
   "source": [
    "df.columns"
   ]
  },
  {
   "cell_type": "markdown",
   "id": "005dbde1-c7ae-4490-abca-8d14e10f01bd",
   "metadata": {},
   "source": [
    "## Explore the data"
   ]
  },
  {
   "cell_type": "markdown",
   "id": "68a9efb4-7ea5-47ab-91da-df878ea9c52c",
   "metadata": {},
   "source": [
    "## 1. Display Top 5 rows of the dataset"
   ]
  },
  {
   "cell_type": "code",
   "execution_count": 6,
   "id": "1a941bf7-76e7-406b-a940-93c4c1cf7710",
   "metadata": {},
   "outputs": [
    {
     "data": {
      "text/html": [
       "<div>\n",
       "<style scoped>\n",
       "    .dataframe tbody tr th:only-of-type {\n",
       "        vertical-align: middle;\n",
       "    }\n",
       "\n",
       "    .dataframe tbody tr th {\n",
       "        vertical-align: top;\n",
       "    }\n",
       "\n",
       "    .dataframe thead th {\n",
       "        text-align: right;\n",
       "    }\n",
       "</style>\n",
       "<table border=\"1\" class=\"dataframe\">\n",
       "  <thead>\n",
       "    <tr style=\"text-align: right;\">\n",
       "      <th></th>\n",
       "      <th>Row ID</th>\n",
       "      <th>Order ID</th>\n",
       "      <th>Order Date</th>\n",
       "      <th>Ship Date</th>\n",
       "      <th>Ship Mode</th>\n",
       "      <th>Customer ID</th>\n",
       "      <th>Customer Name</th>\n",
       "      <th>Segment</th>\n",
       "      <th>City</th>\n",
       "      <th>State</th>\n",
       "      <th>...</th>\n",
       "      <th>Product ID</th>\n",
       "      <th>Category</th>\n",
       "      <th>Sub-Category</th>\n",
       "      <th>Product Name</th>\n",
       "      <th>Sales</th>\n",
       "      <th>Quantity</th>\n",
       "      <th>Discount</th>\n",
       "      <th>Profit</th>\n",
       "      <th>Shipping Cost</th>\n",
       "      <th>Order Priority</th>\n",
       "    </tr>\n",
       "  </thead>\n",
       "  <tbody>\n",
       "    <tr>\n",
       "      <th>0</th>\n",
       "      <td>42433</td>\n",
       "      <td>AG-2011-2040</td>\n",
       "      <td>1/1/2011</td>\n",
       "      <td>6/1/2011</td>\n",
       "      <td>Standard Class</td>\n",
       "      <td>TB-11280</td>\n",
       "      <td>Toby Braunhardt</td>\n",
       "      <td>Consumer</td>\n",
       "      <td>Constantine</td>\n",
       "      <td>Constantine</td>\n",
       "      <td>...</td>\n",
       "      <td>OFF-TEN-10000025</td>\n",
       "      <td>Office Supplies</td>\n",
       "      <td>Storage</td>\n",
       "      <td>Tenex Lockers, Blue</td>\n",
       "      <td>408.300</td>\n",
       "      <td>2</td>\n",
       "      <td>0.000</td>\n",
       "      <td>106.140</td>\n",
       "      <td>35.460</td>\n",
       "      <td>Medium</td>\n",
       "    </tr>\n",
       "    <tr>\n",
       "      <th>1</th>\n",
       "      <td>22253</td>\n",
       "      <td>IN-2011-47883</td>\n",
       "      <td>1/1/2011</td>\n",
       "      <td>8/1/2011</td>\n",
       "      <td>Standard Class</td>\n",
       "      <td>JH-15985</td>\n",
       "      <td>Joseph Holt</td>\n",
       "      <td>Consumer</td>\n",
       "      <td>Wagga Wagga</td>\n",
       "      <td>New South Wales</td>\n",
       "      <td>...</td>\n",
       "      <td>OFF-SU-10000618</td>\n",
       "      <td>Office Supplies</td>\n",
       "      <td>Supplies</td>\n",
       "      <td>Acme Trimmer, High Speed</td>\n",
       "      <td>120.366</td>\n",
       "      <td>3</td>\n",
       "      <td>0.100</td>\n",
       "      <td>36.036</td>\n",
       "      <td>9.720</td>\n",
       "      <td>Medium</td>\n",
       "    </tr>\n",
       "    <tr>\n",
       "      <th>2</th>\n",
       "      <td>48883</td>\n",
       "      <td>HU-2011-1220</td>\n",
       "      <td>1/1/2011</td>\n",
       "      <td>5/1/2011</td>\n",
       "      <td>Second Class</td>\n",
       "      <td>AT-735</td>\n",
       "      <td>Annie Thurman</td>\n",
       "      <td>Consumer</td>\n",
       "      <td>Budapest</td>\n",
       "      <td>Budapest</td>\n",
       "      <td>...</td>\n",
       "      <td>OFF-TEN-10001585</td>\n",
       "      <td>Office Supplies</td>\n",
       "      <td>Storage</td>\n",
       "      <td>Tenex Box, Single Width</td>\n",
       "      <td>66.120</td>\n",
       "      <td>4</td>\n",
       "      <td>0.000</td>\n",
       "      <td>29.640</td>\n",
       "      <td>8.170</td>\n",
       "      <td>High</td>\n",
       "    </tr>\n",
       "    <tr>\n",
       "      <th>3</th>\n",
       "      <td>11731</td>\n",
       "      <td>IT-2011-3647632</td>\n",
       "      <td>1/1/2011</td>\n",
       "      <td>5/1/2011</td>\n",
       "      <td>Second Class</td>\n",
       "      <td>EM-14140</td>\n",
       "      <td>Eugene Moren</td>\n",
       "      <td>Home Office</td>\n",
       "      <td>Stockholm</td>\n",
       "      <td>Stockholm</td>\n",
       "      <td>...</td>\n",
       "      <td>OFF-PA-10001492</td>\n",
       "      <td>Office Supplies</td>\n",
       "      <td>Paper</td>\n",
       "      <td>Enermax Note Cards, Premium</td>\n",
       "      <td>44.865</td>\n",
       "      <td>3</td>\n",
       "      <td>0.500</td>\n",
       "      <td>-26.055</td>\n",
       "      <td>4.820</td>\n",
       "      <td>High</td>\n",
       "    </tr>\n",
       "    <tr>\n",
       "      <th>4</th>\n",
       "      <td>22255</td>\n",
       "      <td>IN-2011-47883</td>\n",
       "      <td>1/1/2011</td>\n",
       "      <td>8/1/2011</td>\n",
       "      <td>Standard Class</td>\n",
       "      <td>JH-15985</td>\n",
       "      <td>Joseph Holt</td>\n",
       "      <td>Consumer</td>\n",
       "      <td>Wagga Wagga</td>\n",
       "      <td>New South Wales</td>\n",
       "      <td>...</td>\n",
       "      <td>FUR-FU-10003447</td>\n",
       "      <td>Furniture</td>\n",
       "      <td>Furnishings</td>\n",
       "      <td>Eldon Light Bulb, Duo Pack</td>\n",
       "      <td>113.670</td>\n",
       "      <td>5</td>\n",
       "      <td>0.100</td>\n",
       "      <td>37.770</td>\n",
       "      <td>4.700</td>\n",
       "      <td>Medium</td>\n",
       "    </tr>\n",
       "  </tbody>\n",
       "</table>\n",
       "<p>5 rows × 24 columns</p>\n",
       "</div>"
      ],
      "text/plain": [
       "   Row ID         Order ID Order Date Ship Date       Ship Mode Customer ID  \\\n",
       "0   42433     AG-2011-2040   1/1/2011  6/1/2011  Standard Class    TB-11280   \n",
       "1   22253    IN-2011-47883   1/1/2011  8/1/2011  Standard Class    JH-15985   \n",
       "2   48883     HU-2011-1220   1/1/2011  5/1/2011    Second Class      AT-735   \n",
       "3   11731  IT-2011-3647632   1/1/2011  5/1/2011    Second Class    EM-14140   \n",
       "4   22255    IN-2011-47883   1/1/2011  8/1/2011  Standard Class    JH-15985   \n",
       "\n",
       "     Customer Name      Segment         City            State  ...  \\\n",
       "0  Toby Braunhardt     Consumer  Constantine      Constantine  ...   \n",
       "1      Joseph Holt     Consumer  Wagga Wagga  New South Wales  ...   \n",
       "2    Annie Thurman     Consumer     Budapest         Budapest  ...   \n",
       "3     Eugene Moren  Home Office    Stockholm        Stockholm  ...   \n",
       "4      Joseph Holt     Consumer  Wagga Wagga  New South Wales  ...   \n",
       "\n",
       "         Product ID         Category Sub-Category  \\\n",
       "0  OFF-TEN-10000025  Office Supplies      Storage   \n",
       "1   OFF-SU-10000618  Office Supplies     Supplies   \n",
       "2  OFF-TEN-10001585  Office Supplies      Storage   \n",
       "3   OFF-PA-10001492  Office Supplies        Paper   \n",
       "4   FUR-FU-10003447        Furniture  Furnishings   \n",
       "\n",
       "                  Product Name   Sales Quantity Discount  Profit  \\\n",
       "0          Tenex Lockers, Blue 408.300        2    0.000 106.140   \n",
       "1     Acme Trimmer, High Speed 120.366        3    0.100  36.036   \n",
       "2      Tenex Box, Single Width  66.120        4    0.000  29.640   \n",
       "3  Enermax Note Cards, Premium  44.865        3    0.500 -26.055   \n",
       "4   Eldon Light Bulb, Duo Pack 113.670        5    0.100  37.770   \n",
       "\n",
       "   Shipping Cost  Order Priority  \n",
       "0         35.460          Medium  \n",
       "1          9.720          Medium  \n",
       "2          8.170            High  \n",
       "3          4.820            High  \n",
       "4          4.700          Medium  \n",
       "\n",
       "[5 rows x 24 columns]"
      ]
     },
     "execution_count": 6,
     "metadata": {},
     "output_type": "execute_result"
    }
   ],
   "source": [
    "df.head()"
   ]
  },
  {
   "cell_type": "markdown",
   "id": "75816e1b-9ee4-4650-9088-30e5cec2f5b8",
   "metadata": {},
   "source": [
    "## 2. Check the last 5 rows of the dataset"
   ]
  },
  {
   "cell_type": "code",
   "execution_count": 7,
   "id": "74852b2c-4951-4cf2-906f-8948fce285bc",
   "metadata": {},
   "outputs": [
    {
     "data": {
      "text/html": [
       "<div>\n",
       "<style scoped>\n",
       "    .dataframe tbody tr th:only-of-type {\n",
       "        vertical-align: middle;\n",
       "    }\n",
       "\n",
       "    .dataframe tbody tr th {\n",
       "        vertical-align: top;\n",
       "    }\n",
       "\n",
       "    .dataframe thead th {\n",
       "        text-align: right;\n",
       "    }\n",
       "</style>\n",
       "<table border=\"1\" class=\"dataframe\">\n",
       "  <thead>\n",
       "    <tr style=\"text-align: right;\">\n",
       "      <th></th>\n",
       "      <th>Row ID</th>\n",
       "      <th>Order ID</th>\n",
       "      <th>Order Date</th>\n",
       "      <th>Ship Date</th>\n",
       "      <th>Ship Mode</th>\n",
       "      <th>Customer ID</th>\n",
       "      <th>Customer Name</th>\n",
       "      <th>Segment</th>\n",
       "      <th>City</th>\n",
       "      <th>State</th>\n",
       "      <th>...</th>\n",
       "      <th>Product ID</th>\n",
       "      <th>Category</th>\n",
       "      <th>Sub-Category</th>\n",
       "      <th>Product Name</th>\n",
       "      <th>Sales</th>\n",
       "      <th>Quantity</th>\n",
       "      <th>Discount</th>\n",
       "      <th>Profit</th>\n",
       "      <th>Shipping Cost</th>\n",
       "      <th>Order Priority</th>\n",
       "    </tr>\n",
       "  </thead>\n",
       "  <tbody>\n",
       "    <tr>\n",
       "      <th>51285</th>\n",
       "      <td>32593</td>\n",
       "      <td>CA-2014-115427</td>\n",
       "      <td>31-12-2014</td>\n",
       "      <td>4/1/2015</td>\n",
       "      <td>Standard Class</td>\n",
       "      <td>EB-13975</td>\n",
       "      <td>Erica Bern</td>\n",
       "      <td>Corporate</td>\n",
       "      <td>Fairfield</td>\n",
       "      <td>California</td>\n",
       "      <td>...</td>\n",
       "      <td>OFF-BI-10002103</td>\n",
       "      <td>Office Supplies</td>\n",
       "      <td>Binders</td>\n",
       "      <td>Cardinal Slant-D Ring Binder, Heavy Gauge Vinyl</td>\n",
       "      <td>13.904</td>\n",
       "      <td>2</td>\n",
       "      <td>0.200</td>\n",
       "      <td>4.519</td>\n",
       "      <td>0.890</td>\n",
       "      <td>Medium</td>\n",
       "    </tr>\n",
       "    <tr>\n",
       "      <th>51286</th>\n",
       "      <td>47594</td>\n",
       "      <td>MO-2014-2560</td>\n",
       "      <td>31-12-2014</td>\n",
       "      <td>5/1/2015</td>\n",
       "      <td>Standard Class</td>\n",
       "      <td>LP-7095</td>\n",
       "      <td>Liz Preis</td>\n",
       "      <td>Consumer</td>\n",
       "      <td>Agadir</td>\n",
       "      <td>Souss-Massa-Draâ</td>\n",
       "      <td>...</td>\n",
       "      <td>OFF-WIL-10001069</td>\n",
       "      <td>Office Supplies</td>\n",
       "      <td>Binders</td>\n",
       "      <td>Wilson Jones Hole Reinforcements, Clear</td>\n",
       "      <td>3.990</td>\n",
       "      <td>1</td>\n",
       "      <td>0.000</td>\n",
       "      <td>0.420</td>\n",
       "      <td>0.490</td>\n",
       "      <td>Medium</td>\n",
       "    </tr>\n",
       "    <tr>\n",
       "      <th>51287</th>\n",
       "      <td>8857</td>\n",
       "      <td>MX-2014-110527</td>\n",
       "      <td>31-12-2014</td>\n",
       "      <td>2/1/2015</td>\n",
       "      <td>Second Class</td>\n",
       "      <td>CM-12190</td>\n",
       "      <td>Charlotte Melton</td>\n",
       "      <td>Consumer</td>\n",
       "      <td>Managua</td>\n",
       "      <td>Managua</td>\n",
       "      <td>...</td>\n",
       "      <td>OFF-LA-10004182</td>\n",
       "      <td>Office Supplies</td>\n",
       "      <td>Labels</td>\n",
       "      <td>Hon Color Coded Labels, 5000 Label Set</td>\n",
       "      <td>26.400</td>\n",
       "      <td>3</td>\n",
       "      <td>0.000</td>\n",
       "      <td>12.360</td>\n",
       "      <td>0.350</td>\n",
       "      <td>Medium</td>\n",
       "    </tr>\n",
       "    <tr>\n",
       "      <th>51288</th>\n",
       "      <td>6852</td>\n",
       "      <td>MX-2014-114783</td>\n",
       "      <td>31-12-2014</td>\n",
       "      <td>6/1/2015</td>\n",
       "      <td>Standard Class</td>\n",
       "      <td>TD-20995</td>\n",
       "      <td>Tamara Dahlen</td>\n",
       "      <td>Consumer</td>\n",
       "      <td>Juárez</td>\n",
       "      <td>Chihuahua</td>\n",
       "      <td>...</td>\n",
       "      <td>OFF-LA-10000413</td>\n",
       "      <td>Office Supplies</td>\n",
       "      <td>Labels</td>\n",
       "      <td>Hon Legal Exhibit Labels, Alphabetical</td>\n",
       "      <td>7.120</td>\n",
       "      <td>1</td>\n",
       "      <td>0.000</td>\n",
       "      <td>0.560</td>\n",
       "      <td>0.200</td>\n",
       "      <td>Medium</td>\n",
       "    </tr>\n",
       "    <tr>\n",
       "      <th>51289</th>\n",
       "      <td>36388</td>\n",
       "      <td>CA-2014-156720</td>\n",
       "      <td>31-12-2014</td>\n",
       "      <td>4/1/2015</td>\n",
       "      <td>Standard Class</td>\n",
       "      <td>JM-15580</td>\n",
       "      <td>Jill Matthias</td>\n",
       "      <td>Consumer</td>\n",
       "      <td>Loveland</td>\n",
       "      <td>Colorado</td>\n",
       "      <td>...</td>\n",
       "      <td>OFF-FA-10003472</td>\n",
       "      <td>Office Supplies</td>\n",
       "      <td>Fasteners</td>\n",
       "      <td>Bagged Rubber Bands</td>\n",
       "      <td>3.024</td>\n",
       "      <td>3</td>\n",
       "      <td>0.200</td>\n",
       "      <td>-0.605</td>\n",
       "      <td>0.170</td>\n",
       "      <td>Medium</td>\n",
       "    </tr>\n",
       "  </tbody>\n",
       "</table>\n",
       "<p>5 rows × 24 columns</p>\n",
       "</div>"
      ],
      "text/plain": [
       "       Row ID        Order ID  Order Date Ship Date       Ship Mode  \\\n",
       "51285   32593  CA-2014-115427  31-12-2014  4/1/2015  Standard Class   \n",
       "51286   47594    MO-2014-2560  31-12-2014  5/1/2015  Standard Class   \n",
       "51287    8857  MX-2014-110527  31-12-2014  2/1/2015    Second Class   \n",
       "51288    6852  MX-2014-114783  31-12-2014  6/1/2015  Standard Class   \n",
       "51289   36388  CA-2014-156720  31-12-2014  4/1/2015  Standard Class   \n",
       "\n",
       "      Customer ID     Customer Name    Segment       City             State  \\\n",
       "51285    EB-13975        Erica Bern  Corporate  Fairfield        California   \n",
       "51286     LP-7095         Liz Preis   Consumer     Agadir  Souss-Massa-Draâ   \n",
       "51287    CM-12190  Charlotte Melton   Consumer    Managua           Managua   \n",
       "51288    TD-20995     Tamara Dahlen   Consumer     Juárez         Chihuahua   \n",
       "51289    JM-15580     Jill Matthias   Consumer   Loveland          Colorado   \n",
       "\n",
       "       ...        Product ID         Category Sub-Category  \\\n",
       "51285  ...   OFF-BI-10002103  Office Supplies      Binders   \n",
       "51286  ...  OFF-WIL-10001069  Office Supplies      Binders   \n",
       "51287  ...   OFF-LA-10004182  Office Supplies       Labels   \n",
       "51288  ...   OFF-LA-10000413  Office Supplies       Labels   \n",
       "51289  ...   OFF-FA-10003472  Office Supplies    Fasteners   \n",
       "\n",
       "                                          Product Name  Sales Quantity  \\\n",
       "51285  Cardinal Slant-D Ring Binder, Heavy Gauge Vinyl 13.904        2   \n",
       "51286          Wilson Jones Hole Reinforcements, Clear  3.990        1   \n",
       "51287           Hon Color Coded Labels, 5000 Label Set 26.400        3   \n",
       "51288           Hon Legal Exhibit Labels, Alphabetical  7.120        1   \n",
       "51289                              Bagged Rubber Bands  3.024        3   \n",
       "\n",
       "      Discount Profit  Shipping Cost  Order Priority  \n",
       "51285    0.200  4.519          0.890          Medium  \n",
       "51286    0.000  0.420          0.490          Medium  \n",
       "51287    0.000 12.360          0.350          Medium  \n",
       "51288    0.000  0.560          0.200          Medium  \n",
       "51289    0.200 -0.605          0.170          Medium  \n",
       "\n",
       "[5 rows x 24 columns]"
      ]
     },
     "execution_count": 7,
     "metadata": {},
     "output_type": "execute_result"
    }
   ],
   "source": [
    "df.tail()"
   ]
  },
  {
   "cell_type": "markdown",
   "id": "b85a8740-39c8-4d24-b4b1-1d1205f7cc31",
   "metadata": {},
   "source": [
    "## 3. Find the shape of the dataset(Number of rows and Number of columns)"
   ]
  },
  {
   "cell_type": "code",
   "execution_count": 8,
   "id": "15eb4fad-ad99-4e54-8998-fa04aaddb3b7",
   "metadata": {},
   "outputs": [
    {
     "data": {
      "text/plain": [
       "(51290, 24)"
      ]
     },
     "execution_count": 8,
     "metadata": {},
     "output_type": "execute_result"
    }
   ],
   "source": [
    "df.shape"
   ]
  },
  {
   "cell_type": "code",
   "execution_count": 9,
   "id": "cfe07a34-e142-4c5f-a930-1e8a084de1b3",
   "metadata": {},
   "outputs": [
    {
     "name": "stdout",
     "output_type": "stream",
     "text": [
      "Number of rows: 51290\n",
      "Number of columns: 24\n"
     ]
    }
   ],
   "source": [
    "print(\"Number of rows:\",df.shape[0])\n",
    "print(\"Number of columns:\",df.shape[1])"
   ]
  },
  {
   "cell_type": "markdown",
   "id": "3e50839f-089c-4154-8e73-49de4eab05f2",
   "metadata": {},
   "source": [
    "## 4. Get information about the dataset like total number of rows, total number of columns, datatypes of each column and memory requirement."
   ]
  },
  {
   "cell_type": "code",
   "execution_count": 10,
   "id": "897d8375-02a9-43df-8a19-45622dda3bd3",
   "metadata": {},
   "outputs": [
    {
     "name": "stdout",
     "output_type": "stream",
     "text": [
      "<class 'pandas.core.frame.DataFrame'>\n",
      "RangeIndex: 51290 entries, 0 to 51289\n",
      "Data columns (total 24 columns):\n",
      " #   Column          Non-Null Count  Dtype  \n",
      "---  ------          --------------  -----  \n",
      " 0   Row ID          51290 non-null  int64  \n",
      " 1   Order ID        51290 non-null  object \n",
      " 2   Order Date      51290 non-null  object \n",
      " 3   Ship Date       51290 non-null  object \n",
      " 4   Ship Mode       51290 non-null  object \n",
      " 5   Customer ID     51290 non-null  object \n",
      " 6   Customer Name   51290 non-null  object \n",
      " 7   Segment         51290 non-null  object \n",
      " 8   City            51290 non-null  object \n",
      " 9   State           51290 non-null  object \n",
      " 10  Country         51290 non-null  object \n",
      " 11  Postal Code     9994 non-null   float64\n",
      " 12  Market          51290 non-null  object \n",
      " 13  Region          51290 non-null  object \n",
      " 14  Product ID      51290 non-null  object \n",
      " 15  Category        51290 non-null  object \n",
      " 16  Sub-Category    51290 non-null  object \n",
      " 17  Product Name    51290 non-null  object \n",
      " 18  Sales           51290 non-null  float64\n",
      " 19  Quantity        51290 non-null  int64  \n",
      " 20  Discount        51290 non-null  float64\n",
      " 21  Profit          51290 non-null  float64\n",
      " 22  Shipping Cost   51290 non-null  float64\n",
      " 23  Order Priority  51290 non-null  object \n",
      "dtypes: float64(5), int64(2), object(17)\n",
      "memory usage: 9.4+ MB\n"
     ]
    }
   ],
   "source": [
    "df.info()"
   ]
  },
  {
   "cell_type": "markdown",
   "id": "9bc385ae-6f87-42b4-a47c-e754f95d5e5c",
   "metadata": {},
   "source": [
    "## 5. Check null values in the dataset"
   ]
  },
  {
   "cell_type": "code",
   "execution_count": 11,
   "id": "966ba939-c117-424c-83dc-5c4d410078ef",
   "metadata": {},
   "outputs": [
    {
     "data": {
      "text/plain": [
       "Row ID                0\n",
       "Order ID              0\n",
       "Order Date            0\n",
       "Ship Date             0\n",
       "Ship Mode             0\n",
       "Customer ID           0\n",
       "Customer Name         0\n",
       "Segment               0\n",
       "City                  0\n",
       "State                 0\n",
       "Country               0\n",
       "Postal Code       41296\n",
       "Market                0\n",
       "Region                0\n",
       "Product ID            0\n",
       "Category              0\n",
       "Sub-Category          0\n",
       "Product Name          0\n",
       "Sales                 0\n",
       "Quantity              0\n",
       "Discount              0\n",
       "Profit                0\n",
       "Shipping Cost         0\n",
       "Order Priority        0\n",
       "dtype: int64"
      ]
     },
     "execution_count": 11,
     "metadata": {},
     "output_type": "execute_result"
    }
   ],
   "source": [
    "df.isnull().sum()"
   ]
  },
  {
   "cell_type": "markdown",
   "id": "79b12702-dcaf-4efa-a7e1-c76f6603ce4e",
   "metadata": {},
   "source": [
    "## 6. Check for duplicate data and drop them"
   ]
  },
  {
   "cell_type": "code",
   "execution_count": 12,
   "id": "f0c1a582-7f0b-4de4-99d4-a240952527f2",
   "metadata": {},
   "outputs": [
    {
     "data": {
      "text/plain": [
       "False"
      ]
     },
     "execution_count": 12,
     "metadata": {},
     "output_type": "execute_result"
    }
   ],
   "source": [
    "df.duplicated().any()"
   ]
  },
  {
   "cell_type": "markdown",
   "id": "11d4fc08-a160-493d-8d18-060416697720",
   "metadata": {},
   "source": [
    "## 7. Get overall Statistics about the dataset"
   ]
  },
  {
   "cell_type": "code",
   "execution_count": 13,
   "id": "250f09f6-c096-4701-a1bd-ab231ea15362",
   "metadata": {},
   "outputs": [
    {
     "data": {
      "text/html": [
       "<div>\n",
       "<style scoped>\n",
       "    .dataframe tbody tr th:only-of-type {\n",
       "        vertical-align: middle;\n",
       "    }\n",
       "\n",
       "    .dataframe tbody tr th {\n",
       "        vertical-align: top;\n",
       "    }\n",
       "\n",
       "    .dataframe thead th {\n",
       "        text-align: right;\n",
       "    }\n",
       "</style>\n",
       "<table border=\"1\" class=\"dataframe\">\n",
       "  <thead>\n",
       "    <tr style=\"text-align: right;\">\n",
       "      <th></th>\n",
       "      <th>Row ID</th>\n",
       "      <th>Postal Code</th>\n",
       "      <th>Sales</th>\n",
       "      <th>Quantity</th>\n",
       "      <th>Discount</th>\n",
       "      <th>Profit</th>\n",
       "      <th>Shipping Cost</th>\n",
       "    </tr>\n",
       "  </thead>\n",
       "  <tbody>\n",
       "    <tr>\n",
       "      <th>count</th>\n",
       "      <td>51290.000</td>\n",
       "      <td>9994.000</td>\n",
       "      <td>51290.000</td>\n",
       "      <td>51290.000</td>\n",
       "      <td>51290.000</td>\n",
       "      <td>51290.000</td>\n",
       "      <td>51290.000</td>\n",
       "    </tr>\n",
       "    <tr>\n",
       "      <th>mean</th>\n",
       "      <td>25645.500</td>\n",
       "      <td>55190.379</td>\n",
       "      <td>246.491</td>\n",
       "      <td>3.477</td>\n",
       "      <td>0.143</td>\n",
       "      <td>28.611</td>\n",
       "      <td>26.376</td>\n",
       "    </tr>\n",
       "    <tr>\n",
       "      <th>std</th>\n",
       "      <td>14806.292</td>\n",
       "      <td>32063.693</td>\n",
       "      <td>487.565</td>\n",
       "      <td>2.279</td>\n",
       "      <td>0.212</td>\n",
       "      <td>174.341</td>\n",
       "      <td>57.297</td>\n",
       "    </tr>\n",
       "    <tr>\n",
       "      <th>min</th>\n",
       "      <td>1.000</td>\n",
       "      <td>1040.000</td>\n",
       "      <td>0.444</td>\n",
       "      <td>1.000</td>\n",
       "      <td>0.000</td>\n",
       "      <td>-6599.978</td>\n",
       "      <td>0.000</td>\n",
       "    </tr>\n",
       "    <tr>\n",
       "      <th>25%</th>\n",
       "      <td>12823.250</td>\n",
       "      <td>23223.000</td>\n",
       "      <td>30.759</td>\n",
       "      <td>2.000</td>\n",
       "      <td>0.000</td>\n",
       "      <td>0.000</td>\n",
       "      <td>2.610</td>\n",
       "    </tr>\n",
       "    <tr>\n",
       "      <th>50%</th>\n",
       "      <td>25645.500</td>\n",
       "      <td>56430.500</td>\n",
       "      <td>85.053</td>\n",
       "      <td>3.000</td>\n",
       "      <td>0.000</td>\n",
       "      <td>9.240</td>\n",
       "      <td>7.790</td>\n",
       "    </tr>\n",
       "    <tr>\n",
       "      <th>75%</th>\n",
       "      <td>38467.750</td>\n",
       "      <td>90008.000</td>\n",
       "      <td>251.053</td>\n",
       "      <td>5.000</td>\n",
       "      <td>0.200</td>\n",
       "      <td>36.810</td>\n",
       "      <td>24.450</td>\n",
       "    </tr>\n",
       "    <tr>\n",
       "      <th>max</th>\n",
       "      <td>51290.000</td>\n",
       "      <td>99301.000</td>\n",
       "      <td>22638.480</td>\n",
       "      <td>14.000</td>\n",
       "      <td>0.850</td>\n",
       "      <td>8399.976</td>\n",
       "      <td>933.570</td>\n",
       "    </tr>\n",
       "  </tbody>\n",
       "</table>\n",
       "</div>"
      ],
      "text/plain": [
       "         Row ID  Postal Code     Sales  Quantity  Discount    Profit  \\\n",
       "count 51290.000     9994.000 51290.000 51290.000 51290.000 51290.000   \n",
       "mean  25645.500    55190.379   246.491     3.477     0.143    28.611   \n",
       "std   14806.292    32063.693   487.565     2.279     0.212   174.341   \n",
       "min       1.000     1040.000     0.444     1.000     0.000 -6599.978   \n",
       "25%   12823.250    23223.000    30.759     2.000     0.000     0.000   \n",
       "50%   25645.500    56430.500    85.053     3.000     0.000     9.240   \n",
       "75%   38467.750    90008.000   251.053     5.000     0.200    36.810   \n",
       "max   51290.000    99301.000 22638.480    14.000     0.850  8399.976   \n",
       "\n",
       "       Shipping Cost  \n",
       "count      51290.000  \n",
       "mean          26.376  \n",
       "std           57.297  \n",
       "min            0.000  \n",
       "25%            2.610  \n",
       "50%            7.790  \n",
       "75%           24.450  \n",
       "max          933.570  "
      ]
     },
     "execution_count": 13,
     "metadata": {},
     "output_type": "execute_result"
    }
   ],
   "source": [
    "df.describe()"
   ]
  },
  {
   "cell_type": "markdown",
   "id": "e19881ef-ae4e-4646-8bfc-0cf263f473f1",
   "metadata": {},
   "source": [
    "## 8. Drop unneccessary columns"
   ]
  },
  {
   "cell_type": "code",
   "execution_count": 14,
   "id": "34e6b8ee-13fa-49eb-9d00-1e1656ad7091",
   "metadata": {},
   "outputs": [
    {
     "data": {
      "text/plain": [
       "Index(['Row ID', 'Order ID', 'Order Date', 'Ship Date', 'Ship Mode',\n",
       "       'Customer ID', 'Customer Name', 'Segment', 'City', 'State', 'Country',\n",
       "       'Postal Code', 'Market', 'Region', 'Product ID', 'Category',\n",
       "       'Sub-Category', 'Product Name', 'Sales', 'Quantity', 'Discount',\n",
       "       'Profit', 'Shipping Cost', 'Order Priority'],\n",
       "      dtype='object')"
      ]
     },
     "execution_count": 14,
     "metadata": {},
     "output_type": "execute_result"
    }
   ],
   "source": [
    "df.columns"
   ]
  },
  {
   "cell_type": "code",
   "execution_count": 15,
   "id": "32cda81c-6e43-46e8-8b28-5c26cb27ea98",
   "metadata": {},
   "outputs": [],
   "source": [
    "df=df.drop(['Row ID','Order ID','Postal Code'],axis=1)"
   ]
  },
  {
   "cell_type": "code",
   "execution_count": 16,
   "id": "6ac6207c-a837-4024-ba22-7ebef97cfa6e",
   "metadata": {},
   "outputs": [
    {
     "data": {
      "text/plain": [
       "Index(['Order Date', 'Ship Date', 'Ship Mode', 'Customer ID', 'Customer Name',\n",
       "       'Segment', 'City', 'State', 'Country', 'Market', 'Region', 'Product ID',\n",
       "       'Category', 'Sub-Category', 'Product Name', 'Sales', 'Quantity',\n",
       "       'Discount', 'Profit', 'Shipping Cost', 'Order Priority'],\n",
       "      dtype='object')"
      ]
     },
     "execution_count": 16,
     "metadata": {},
     "output_type": "execute_result"
    }
   ],
   "source": [
    "df.columns"
   ]
  },
  {
   "cell_type": "markdown",
   "id": "8c21cf95-7103-4eb1-9da6-c3b8d2ee5eb3",
   "metadata": {},
   "source": [
    "### Hypothesis 1 :Technology products have the highest profit margin compared to other product categories."
   ]
  },
  {
   "cell_type": "code",
   "execution_count": 17,
   "id": "a3ee2fa8-f43a-4640-9cdf-536d54dc5d7f",
   "metadata": {},
   "outputs": [
    {
     "data": {
      "text/plain": [
       "Index(['Order Date', 'Ship Date', 'Ship Mode', 'Customer ID', 'Customer Name',\n",
       "       'Segment', 'City', 'State', 'Country', 'Market', 'Region', 'Product ID',\n",
       "       'Category', 'Sub-Category', 'Product Name', 'Sales', 'Quantity',\n",
       "       'Discount', 'Profit', 'Shipping Cost', 'Order Priority'],\n",
       "      dtype='object')"
      ]
     },
     "execution_count": 17,
     "metadata": {},
     "output_type": "execute_result"
    }
   ],
   "source": [
    "df.columns"
   ]
  },
  {
   "cell_type": "code",
   "execution_count": 18,
   "id": "43f694c7-9cea-4513-9271-ddb6914d8eeb",
   "metadata": {},
   "outputs": [
    {
     "data": {
      "image/png": "[encoded data removed]",
      "text/plain": [
       "<Figure size 640x480 with 1 Axes>"
      ]
     },
     "metadata": {},
     "output_type": "display_data"
    }
   ],
   "source": [
    "profit=df.groupby('Category')['Profit'].sum()\n",
    "profit.plot(kind=\"bar\")\n",
    "plt.title(\"Profit by Category\")\n",
    "plt.xlabel(\"Category\")\n",
    "plt.ylabel(\"Profit\")\n",
    "plt.show()"
   ]
  },
  {
   "cell_type": "markdown",
   "id": "e19026b6-d9a0-45f7-af75-63e9c56fcc81",
   "metadata": {},
   "source": [
    "### Conclusion 1: The hypothesis is supported as technology products have the highest profit among all three categories."
   ]
  },
  {
   "cell_type": "markdown",
   "id": "0a206a79-89f5-4ff1-ad71-04bc77cf611b",
   "metadata": {},
   "source": [
    "#"
   ]
  },
  {
   "cell_type": "markdown",
   "id": "f1289228-d41c-4004-b728-a1080afe1559",
   "metadata": {},
   "source": [
    "### Hypothesis 2: The East region has the highest sales compared to other regions."
   ]
  },
  {
   "cell_type": "code",
   "execution_count": 19,
   "id": "61ac38ae-eba5-45d6-a884-a889bbe7fcb2",
   "metadata": {},
   "outputs": [
    {
     "data": {
      "text/plain": [
       "Index(['Order Date', 'Ship Date', 'Ship Mode', 'Customer ID', 'Customer Name',\n",
       "       'Segment', 'City', 'State', 'Country', 'Market', 'Region', 'Product ID',\n",
       "       'Category', 'Sub-Category', 'Product Name', 'Sales', 'Quantity',\n",
       "       'Discount', 'Profit', 'Shipping Cost', 'Order Priority'],\n",
       "      dtype='object')"
      ]
     },
     "execution_count": 19,
     "metadata": {},
     "output_type": "execute_result"
    }
   ],
   "source": [
    "df.columns"
   ]
  },
  {
   "cell_type": "code",
   "execution_count": 20,
   "id": "75ea1b1d-63a3-43d6-9b5e-f8c7220bf417",
   "metadata": {},
   "outputs": [
    {
     "data": {
      "image/png": "[encoded data removed]",
      "text/plain": [
       "<Figure size 640x480 with 1 Axes>"
      ]
     },
     "metadata": {},
     "output_type": "display_data"
    }
   ],
   "source": [
    "east_region=df.groupby('Region')['Sales'].sum()\n",
    "east_region.plot(kind=\"bar\")\n",
    "plt.xlabel(\"Region\")\n",
    "plt.ylabel(\"Total Sales\")\n",
    "plt.title(\"Total Sales By Region\")\n",
    "plt.show()\n"
   ]
  },
  {
   "cell_type": "markdown",
   "id": "9f341eff-4767-4fe4-9eb4-ec72a4b5fb5d",
   "metadata": {},
   "source": [
    "### Conclusion 2: The hypothesis is not supported as central region has the highest sales."
   ]
  },
  {
   "cell_type": "markdown",
   "id": "fb5de3af-5791-42b7-901b-a803dd529e0d",
   "metadata": {},
   "source": [
    "### "
   ]
  },
  {
   "cell_type": "markdown",
   "id": "84a54cd1-a6c6-4955-88dc-5e521149a439",
   "metadata": {},
   "source": [
    "### Hypothesis 3: Sales are higher during certain months of the year."
   ]
  },
  {
   "cell_type": "code",
   "execution_count": 21,
   "id": "335279a1-0c87-4340-9ecc-cf801a8abf2e",
   "metadata": {},
   "outputs": [
    {
     "data": {
      "text/plain": [
       "Index(['Order Date', 'Ship Date', 'Ship Mode', 'Customer ID', 'Customer Name',\n",
       "       'Segment', 'City', 'State', 'Country', 'Market', 'Region', 'Product ID',\n",
       "       'Category', 'Sub-Category', 'Product Name', 'Sales', 'Quantity',\n",
       "       'Discount', 'Profit', 'Shipping Cost', 'Order Priority'],\n",
       "      dtype='object')"
      ]
     },
     "execution_count": 21,
     "metadata": {},
     "output_type": "execute_result"
    }
   ],
   "source": [
    "df.columns"
   ]
  },
  {
   "cell_type": "code",
   "execution_count": 22,
   "id": "62b26569-c05e-494e-be23-effccc364fdd",
   "metadata": {},
   "outputs": [
    {
     "data": {
      "image/png": "[encoded data removed]",
      "text/plain": [
       "<Figure size 640x480 with 1 Axes>"
      ]
     },
     "metadata": {},
     "output_type": "display_data"
    }
   ],
   "source": [
    "df['month_sales']=pd.DatetimeIndex(df['Order Date']).month\n",
    "\n",
    "high_sales=df.groupby('month_sales')['Sales'].sum()\n",
    "high_sales.plot(kind=\"line\")\n",
    "plt.xlabel(\"Months\")\n",
    "plt.ylabel(\"Total Sales\")\n",
    "plt.title(\"Total Sales for each month\")\n",
    "plt.show()"
   ]
  },
  {
   "cell_type": "markdown",
   "id": "42a4d3b0-9bd1-4e1b-a8f7-3feae679a4b5",
   "metadata": {},
   "source": [
    "### Conclusion 3: The hypothesis is supported as the sales are high during certain months like november and december."
   ]
  },
  {
   "cell_type": "markdown",
   "id": "9019a2d8-c5bd-40bd-8a56-8e521270e428",
   "metadata": {},
   "source": [
    "###"
   ]
  },
  {
   "cell_type": "markdown",
   "id": "ace4f907-65c1-4281-9af8-7d66026509dd",
   "metadata": {},
   "source": [
    "### Hypothesis 4: Orders with same-day shipping have the lowest rate of returned products"
   ]
  },
  {
   "cell_type": "code",
   "execution_count": 23,
   "id": "4ed9c820-4ef8-4d59-b6e5-5232e5edd70e",
   "metadata": {},
   "outputs": [
    {
     "data": {
      "text/plain": [
       "Index(['Order Date', 'Ship Date', 'Ship Mode', 'Customer ID', 'Customer Name',\n",
       "       'Segment', 'City', 'State', 'Country', 'Market', 'Region', 'Product ID',\n",
       "       'Category', 'Sub-Category', 'Product Name', 'Sales', 'Quantity',\n",
       "       'Discount', 'Profit', 'Shipping Cost', 'Order Priority', 'month_sales'],\n",
       "      dtype='object')"
      ]
     },
     "execution_count": 23,
     "metadata": {},
     "output_type": "execute_result"
    }
   ],
   "source": [
    "df.columns"
   ]
  },
  {
   "cell_type": "code",
   "execution_count": 55,
   "id": "bc9004dc-3218-4f28-b9c3-023cafed50c8",
   "metadata": {},
   "outputs": [
    {
     "data": {
      "image/png": "[encoded data removed]",
      "text/plain": [
       "<Figure size 640x480 with 1 Axes>"
      ]
     },
     "metadata": {},
     "output_type": "display_data"
    }
   ],
   "source": [
    "\n",
    "total_ship_mode=df.groupby('Ship Mode').size()\n",
    "\n",
    "returned=df[df['Profit']<0].groupby('Ship Mode').size()\n",
    "\n",
    "perc=(returned/total_ship_mode)*100\n",
    "ax=perc.plot(kind=\"barh\")\n",
    "for i, v in enumerate(perc):\n",
    "    ax.text(v/2, i, f'{v:.2f}%', va='center', ha='center', fontsize=12, color='black')\n",
    "plt.xlabel(\"Ship Mode\")\n",
    "plt.ylabel(\"Return Perc\")\n",
    "plt.title(\"Return Rate by Ship Mode\")\n",
    "plt.show()\n",
    "\n",
    "\n"
   ]
  },
  {
   "cell_type": "markdown",
   "id": "36d2aa8e-c2cc-443f-b26a-d290ff356c03",
   "metadata": {},
   "source": [
    "### Conclusion 4:The hypothesis is supported as we can see the same day shipping has less rate of return among all the ship modes."
   ]
  },
  {
   "cell_type": "markdown",
   "id": "61037ece-0326-4e14-b2d9-862952f0540a",
   "metadata": {},
   "source": [
    "###"
   ]
  },
  {
   "cell_type": "markdown",
   "id": "bc0e5d7f-b752-4d02-afd7-479f5e427257",
   "metadata": {},
   "source": [
    "### Hypothesis 5: The company's profit is more on weekdays than on weekends."
   ]
  },
  {
   "cell_type": "code",
   "execution_count": 56,
   "id": "44943903-856c-4b3d-a259-097d42861bcd",
   "metadata": {},
   "outputs": [
    {
     "data": {
      "text/plain": [
       "Index(['Order Date', 'Ship Date', 'Ship Mode', 'Customer ID', 'Customer Name',\n",
       "       'Segment', 'City', 'State', 'Country', 'Market', 'Region', 'Product ID',\n",
       "       'Category', 'Sub-Category', 'Product Name', 'Sales', 'Quantity',\n",
       "       'Discount', 'Profit', 'Shipping Cost', 'Order Priority', 'month_sales'],\n",
       "      dtype='object')"
      ]
     },
     "execution_count": 56,
     "metadata": {},
     "output_type": "execute_result"
    }
   ],
   "source": [
    "df.columns"
   ]
  },
  {
   "cell_type": "code",
   "execution_count": 67,
   "id": "5f71052a-165b-4965-87da-f08255ff8ef1",
   "metadata": {},
   "outputs": [
    {
     "data": {
      "image/png": "[encoded data removed]",
      "text/plain": [
       "<Figure size 640x480 with 1 Axes>"
      ]
     },
     "metadata": {},
     "output_type": "display_data"
    }
   ],
   "source": [
    "df['Day Sales']=pd.DatetimeIndex(df['Order Date']).day_name()\n",
    "\n",
    "total_profit=df.groupby('Day Sales')['Profit'].sum()\n",
    "total_profit.plot(kind=\"bar\")\n",
    "plt.title(\"Total Profit by the day of the week\")\n",
    "plt.xlabel(\"Day of the week\")\n",
    "plt.ylabel(\"Total Profit\")\n",
    "plt.show()\n"
   ]
  },
  {
   "cell_type": "markdown",
   "id": "48dc7b92-572e-46db-99ad-d2c6196d81f5",
   "metadata": {},
   "source": [
    "### Conclusion 5: The hypothesis is supported as company's profit is more on weekdays than on weekends."
   ]
  },
  {
   "cell_type": "code",
   "execution_count": null,
   "id": "d0702325-7a33-4de0-96df-855817ea0158",
   "metadata": {},
   "outputs": [],
   "source": []
  }
 ],
 "metadata": {
  "kernelspec": {
   "display_name": "Python 3 (ipykernel)",
   "language": "python",
   "name": "python3"
  },
  "language_info": {
   "codemirror_mode": {
    "name": "ipython",
    "version": 3
   },
   "file_extension": ".py",
   "mimetype": "text/x-python",
   "name": "python",
   "nbconvert_exporter": "python",
   "pygments_lexer": "ipython3",
   "version": "3.12.2"
  }
 },
 "nbformat": 4,
 "nbformat_minor": 5
}
